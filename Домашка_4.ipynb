{
 "cells": [
  {
   "cell_type": "markdown",
   "metadata": {},
   "source": [
    "Вы работаете секретарем и вам постоянно приходят различные документы. Вы должны быть очень внимательны, чтобы не потерять ни один документ. Каталог документов хранится в следующем виде:"
   ]
  },
  {
   "cell_type": "code",
   "execution_count": 1,
   "metadata": {},
   "outputs": [],
   "source": [
    "documents = [\n",
    "    {'type': 'passport', 'number': '2207 876234', 'name': 'Василий Гупкин'},\n",
    "    {'type': 'invoice', 'number': '11-2', 'name': 'Геннадий Покемонов'},\n",
    "    {'type': 'insurance', 'number': '10006', 'name': 'Аристарх Павлов'}\n",
    "]"
   ]
  },
  {
   "cell_type": "code",
   "execution_count": 2,
   "metadata": {},
   "outputs": [
    {
     "data": {
      "text/plain": [
       "[(0, {'type': 'passport', 'number': '2207 876234', 'name': 'Василий Гупкин'}),\n",
       " (1, {'type': 'invoice', 'number': '11-2', 'name': 'Геннадий Покемонов'}),\n",
       " (2, {'type': 'insurance', 'number': '10006', 'name': 'Аристарх Павлов'})]"
      ]
     },
     "execution_count": 2,
     "metadata": {},
     "output_type": "execute_result"
    }
   ],
   "source": [
    "[*enumerate(documents)]"
   ]
  },
  {
   "cell_type": "markdown",
   "metadata": {},
   "source": [
    "Перечень полок, на которых находятся документы хранится в следующем виде:"
   ]
  },
  {
   "cell_type": "code",
   "execution_count": 3,
   "metadata": {},
   "outputs": [],
   "source": [
    "directories = {\n",
    "    '1': ['2207 876234', '11-2'],\n",
    "    '2': ['10006'],\n",
    "    '3': []\n",
    "}"
   ]
  },
  {
   "cell_type": "code",
   "execution_count": 4,
   "metadata": {},
   "outputs": [],
   "source": [
    "def people (documents_name, ):\n",
    "    buf = []\n",
    "    for i in list(directories.values()):\n",
    "        if len(i):\n",
    "            buf.extend(i)\n",
    "    index = buf.index(documents_name)\n",
    "    return documents[index]['name']"
   ]
  },
  {
   "cell_type": "code",
   "execution_count": 5,
   "metadata": {},
   "outputs": [],
   "source": [
    "def shelf (document_number, ):\n",
    "    directory_number = {}\n",
    "    for i,j in directories.items():\n",
    "        for k in j:\n",
    "            directory_number.update({k:i})\n",
    "    if document_number in directory_number:\n",
    "        return directory_number[document_number]\n",
    "    else:\n",
    "        print(\"такого документа нет\")"
   ]
  },
  {
   "cell_type": "code",
   "execution_count": 6,
   "metadata": {},
   "outputs": [
    {
     "data": {
      "text/plain": [
       "'1'"
      ]
     },
     "execution_count": 6,
     "metadata": {},
     "output_type": "execute_result"
    }
   ],
   "source": [
    "shelf('2207 876234')"
   ]
  },
  {
   "cell_type": "markdown",
   "metadata": {},
   "source": [
    "Необходимо реализовать пользовательские команды (внимание! это не название функций, которые должны быть выразительными, а команды, которые вводит пользователь, чтобы получить необходимый результат):\n",
    "  \n",
    "- p – people – команда, которая спросит номер документа и выведет имя человека, которому он принадлежит;  \n",
    "- s – shelf – команда, которая спросит номер документа и выведет номер полки, на которой он находится  \n",
    "Правильно обработайте ситуацию, когда пользователь будет вводить несуществующий документ.\n",
    "- l – list – команда, которая выведет список всех документов в формате   \n",
    "**passport \"2207 876234\" \"Василий Гупкин\"**  \n",
    "- as – add shelf – команда, которая спросит номер новой полки и добавит ее в перечень\n",
    "- d – delete – команда, которая спросит номер документа и удалит его из каталога и из перечня полок. Предусмотрите сценарий, когда пользователь вводит несуществующий документ;  \n",
    "- m – move – команда, которая спросит номер документа и целевую полку и переместит его с текущей полки на целевую. Корректно обработайте кейсы, когда пользователь пытается переместить несуществующий документ или переместить документ на несуществующую полку;  \n",
    "- a – add – команда, которая добавит новый документ в каталог и в перечень полок, спросив его номер, тип, имя владельца и номер полки, на котором он будет храниться."
   ]
  },
  {
   "cell_type": "code",
   "execution_count": 7,
   "metadata": {},
   "outputs": [],
   "source": [
    "def listlist():\n",
    "    for i in documents:\n",
    "        buf = list(i.values())\n",
    "        print(f'{buf[0]} \"{buf[1]}\" \"{buf[2]}\"')"
   ]
  },
  {
   "cell_type": "code",
   "execution_count": 8,
   "metadata": {},
   "outputs": [],
   "source": [
    "def addshelf(new_shelf):\n",
    "    if new_shelf in directories:\n",
    "        print(\"Такая полка уже есть\")\n",
    "    else:\n",
    "        directories.update({new_shelf:[]})"
   ]
  },
  {
   "cell_type": "code",
   "execution_count": 9,
   "metadata": {},
   "outputs": [],
   "source": [
    "def delete(document_number):\n",
    "    for i,j in directories.items():\n",
    "        if document_number in j:\n",
    "            directories[i] = [i for i in j if i != document_number]\n",
    "            for k in enumerate(documents):\n",
    "                if document_number == k[1][\"number\"]:\n",
    "                    documents.pop(k[0])\n",
    "                    return\n",
    "    print(\"ТАКОГО ДОКУМЕНТА НЕТ\")"
   ]
  },
  {
   "cell_type": "code",
   "execution_count": 10,
   "metadata": {},
   "outputs": [],
   "source": [
    "def move(document_number, shelf):\n",
    "    if shelf in directories:\n",
    "        for i,j in directories.items():\n",
    "            if document_number in j:\n",
    "                directories[i] = [k for k in j if k != document_number]\n",
    "                directories[shelf] = directories[shelf] + [document_number]\n",
    "                return\n",
    "    print(\"ТАКОГО ДОКУМЕНТА НЕТ ИЛИ НЕТ ТАКОЙ ПОЛКИ\")"
   ]
  },
  {
   "cell_type": "code",
   "execution_count": 11,
   "metadata": {},
   "outputs": [],
   "source": [
    "def add(type_, number, name, shelf_):\n",
    "    documents.append({'type': type_, 'number': number , 'name': name})\n",
    "    if shelf_ in directories.keys():\n",
    "        directories[shelf_] = directories[shelf_] + [number]\n",
    "    else:\n",
    "        directories[shelf_] = [number]"
   ]
  },
  {
   "cell_type": "code",
   "execution_count": null,
   "metadata": {
    "scrolled": false
   },
   "outputs": [],
   "source": [
    "while True:\n",
    "    a = input(\"\"\"Введите название функции:\n",
    "people – команда, которая спросит номер документа и выведет имя человека, которому он принадлежит\n",
    "shelf – команда, которая спросит номер документа и выведет номер полки, на которой он находится\n",
    "list – команда, которая выведет список всех документов в формате\n",
    "add shelf – команда, которая спросит номер новой полки и добавит ее в перечень\n",
    "delete – команда, которая спросит номер документа и удалит его из каталога и из перечня полок\n",
    "move – команда, которая спросит номер документа и целевую полку и переместит его с текущей полки на целевую\n",
    "add – команда, которая добавит новый документ в каталог и в перечень полок, спросив его номер, тип, имя владельца и номер полки, на котором он будет храниться\"\"\")\n",
    "    if a == \"people\":\n",
    "        b = input(\"введите номер документа\")\n",
    "        people(b)\n",
    "    elif a == \"shelf\":\n",
    "        b = input(\"введите номер документа\")\n",
    "        print(shelf(b.strip()))\n",
    "    elif a == \"list\":\n",
    "        listlist()\n",
    "    elif a == \"addshelf\":\n",
    "        b = input(\"введите номер новой полки\")\n",
    "        addshelf(b)\n",
    "    elif a == \"delete\":\n",
    "        b = input(\"введите номер документа\")\n",
    "        delete(b)\n",
    "    elif a == \"move\":\n",
    "        b = input(\"введите номер документа\")\n",
    "        move(b)\n",
    "    elif a == \"add\":\n",
    "        b = input(\"введите номер, тип, владельца документа, номер полки (через запятую)\")\n",
    "        add(*b.split(\",\"))\n",
    "    elif a == \"выход\":\n",
    "        break  \n",
    "    else:\n",
    "        print(\"Такой функции не существует, попробуйте еще:)\")"
   ]
  }
 ],
 "metadata": {
  "kernelspec": {
   "display_name": "Python 3",
   "language": "python",
   "name": "python3"
  },
  "language_info": {
   "codemirror_mode": {
    "name": "ipython",
    "version": 3
   },
   "file_extension": ".py",
   "mimetype": "text/x-python",
   "name": "python",
   "nbconvert_exporter": "python",
   "pygments_lexer": "ipython3",
   "version": "3.7.6"
  }
 },
 "nbformat": 4,
 "nbformat_minor": 2
}
